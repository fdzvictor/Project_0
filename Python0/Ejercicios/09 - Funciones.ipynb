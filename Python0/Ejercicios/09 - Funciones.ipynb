{
 "cells": [
  {
   "cell_type": "markdown",
   "metadata": {},
   "source": [
    "\n",
    "<div style=\"text-align: center;\">\n",
    "  <img src=\"https://github.com/Hack-io-Data/Imagenes/blob/main/01-LogosHackio/logo_celeste@4x.png?raw=true\" alt=\"esquema\" />\n",
    "</div>"
   ]
  },
  {
   "cell_type": "markdown",
   "metadata": {},
   "source": [
    "#### 1. Escribe una función sin parámetros que imprima el siguiente mensaje \"¡Hola! Bienvenido.\"\n"
   ]
  },
  {
   "cell_type": "code",
   "execution_count": 2,
   "metadata": {},
   "outputs": [
    {
     "name": "stdout",
     "output_type": "stream",
     "text": [
      "¡Hola! Bienvenido.\n"
     ]
    }
   ],
   "source": [
    "bienvenida = \"¡Hola! Bienvenido.\"\n",
    "def imprimir_bienvenida():\n",
    "    print(bienvenida)\n",
    "\n",
    "imprimir_bienvenida()"
   ]
  },
  {
   "cell_type": "markdown",
   "metadata": {},
   "source": [
    "#### 2. Escribe una función que reciba dos parámetros y devuelva la suma de ambos.\n"
   ]
  },
  {
   "cell_type": "code",
   "execution_count": 6,
   "metadata": {},
   "outputs": [
    {
     "name": "stdout",
     "output_type": "stream",
     "text": [
      "4\n"
     ]
    }
   ],
   "source": [
    "def suma2(x = int(input()),y = int(input())):\n",
    "    print (\"suma2 requiere 2 números.\")\n",
    "    return x + y\n",
    "\n",
    "print (suma2())"
   ]
  },
  {
   "cell_type": "markdown",
   "metadata": {},
   "source": [
    "#### 3. Escribe una función que reciba un número y devuelva True si es par, False si no lo es."
   ]
  },
  {
   "cell_type": "code",
   "execution_count": 15,
   "metadata": {},
   "outputs": [],
   "source": [
    "\n",
    "def par(num1):\n",
    "    if num1 %2 == 0:\n",
    "        return True\n",
    "    else:\n",
    "        return False\n",
    "    \n"
   ]
  },
  {
   "cell_type": "code",
   "execution_count": 16,
   "metadata": {},
   "outputs": [
    {
     "name": "stdout",
     "output_type": "stream",
     "text": [
      "False\n"
     ]
    }
   ],
   "source": [
    "print(par(1))"
   ]
  },
  {
   "cell_type": "markdown",
   "metadata": {},
   "source": [
    "#### 4. Escribe un función que devuelva un saludo personalizado a una persona dado su nombre. \n"
   ]
  },
  {
   "cell_type": "code",
   "execution_count": 3,
   "metadata": {},
   "outputs": [
    {
     "name": "stdout",
     "output_type": "stream",
     "text": [
      "Hola Jose ¡bienvenid@!\n"
     ]
    }
   ],
   "source": [
    "def saludo_personalizado(nombre):\n",
    "    print (f\"Hola {nombre} ¡bienvenid@!\")\n",
    "           \n",
    "nombrepers = input ()\n",
    "saludo_personalizado(nombrepers)\n"
   ]
  },
  {
   "cell_type": "markdown",
   "metadata": {},
   "source": [
    "#### 5. Escribe una función que sume todos los números que reciba como argumento. La función debe recibir una cantidad variable de argumentos y devolver la suma de todos ellos."
   ]
  },
  {
   "cell_type": "code",
   "execution_count": 2,
   "metadata": {},
   "outputs": [
    {
     "name": "stdout",
     "output_type": "stream",
     "text": [
      "35\n"
     ]
    }
   ],
   "source": [
    "def suma_acumulada(*args):\n",
    "    return sum (args)\n",
    "\n",
    "funcion = suma_acumulada(5,6,7,8,9)\n",
    "print(funcion)"
   ]
  },
  {
   "cell_type": "markdown",
   "metadata": {},
   "source": [
    "#### 6. Escribe una función que cuente las letras de una palabra y devuelva un diccionario con la cantidad de veces que se repite cada letra \n"
   ]
  },
  {
   "cell_type": "code",
   "execution_count": 8,
   "metadata": {},
   "outputs": [
    {
     "name": "stdout",
     "output_type": "stream",
     "text": [
      "{}\n"
     ]
    },
    {
     "data": {
      "text/plain": [
       "[1, 1, 1, 1]"
      ]
     },
     "execution_count": 8,
     "metadata": {},
     "output_type": "execute_result"
    }
   ],
   "source": [
    "def cuenta_letras (palabra, **kwargs):\n",
    "    letras_sueltas = []\n",
    "    letras_palabra = []\n",
    "\n",
    "    for letra in palabra:\n",
    "        conteo_letras = palabra.count(letra)\n",
    "        letras_palabra.append (conteo_letras)\n",
    "        letras_sueltas.append (letra)\n",
    "    \n",
    "    \n",
    "\n",
    "        \n",
    "    return (letras_palabra)\n",
    "\n",
    "\n",
    "cuenta_letras(\"Hola\")"
   ]
  },
  {
   "cell_type": "markdown",
   "metadata": {},
   "source": [
    "#### 7. Escribe un función recursiva para calcular el factorial de un número entero no negativo."
   ]
  },
  {
   "cell_type": "code",
   "execution_count": null,
   "metadata": {},
   "outputs": [],
   "source": []
  },
  {
   "cell_type": "markdown",
   "metadata": {},
   "source": [
    "#### 8. Escribe una función que tome dos parámetros: `figura` (una cadena que puede ser `\"rectangulo\"`, `\"circulo\"` o `\"triangulo\"`) y `datos` (una tupla con los datos necesarios para calcular el área de la figura). "
   ]
  },
  {
   "cell_type": "code",
   "execution_count": null,
   "metadata": {},
   "outputs": [],
   "source": []
  },
  {
   "cell_type": "markdown",
   "metadata": {},
   "source": [
    "#### 9. Escribe una función que tome una lista de números como parámetro y devuelva el número más grande de la lista. No utilices la función `max()` de Python en tu solución."
   ]
  },
  {
   "cell_type": "code",
   "execution_count": null,
   "metadata": {},
   "outputs": [],
   "source": []
  },
  {
   "cell_type": "markdown",
   "metadata": {},
   "source": [
    "#### 10. Escribe una función que tome una cadena como parámetro un texto y devuelva `True` si la cadena es un palíndromo (se lee igual de izquierda a derecha que de derecha a izquierda), y `False` en caso contrario. Ignora los espacios y considera mayúsculas y minúsculas de manera insensible.\n"
   ]
  },
  {
   "cell_type": "code",
   "execution_count": null,
   "metadata": {},
   "outputs": [],
   "source": []
  },
  {
   "cell_type": "markdown",
   "metadata": {},
   "source": [
    "#### 11. Escribe una función que tome una cadena como parámetro y devuelva dos valores: la cantidad de vocales y la cantidad de consonantes presentes en la cadena. Ignora los espacios y considera mayúsculas y minúsculas de manera insensible.\n"
   ]
  },
  {
   "cell_type": "code",
   "execution_count": null,
   "metadata": {},
   "outputs": [],
   "source": []
  }
 ],
 "metadata": {
  "kernelspec": {
   "display_name": "hackio",
   "language": "python",
   "name": "python3"
  },
  "language_info": {
   "codemirror_mode": {
    "name": "ipython",
    "version": 3
   },
   "file_extension": ".py",
   "mimetype": "text/x-python",
   "name": "python",
   "nbconvert_exporter": "python",
   "pygments_lexer": "ipython3",
   "version": "3.11.7"
  }
 },
 "nbformat": 4,
 "nbformat_minor": 2
}
