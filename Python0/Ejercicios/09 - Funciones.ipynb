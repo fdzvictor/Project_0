{
 "cells": [
  {
   "cell_type": "markdown",
   "metadata": {},
   "source": [
    "\n",
    "<div style=\"text-align: center;\">\n",
    "  <img src=\"https://github.com/Hack-io-Data/Imagenes/blob/main/01-LogosHackio/logo_celeste@4x.png?raw=true\" alt=\"esquema\" />\n",
    "</div>"
   ]
  },
  {
   "cell_type": "markdown",
   "metadata": {},
   "source": [
    "#### 1. Escribe una función sin parámetros que imprima el siguiente mensaje \"¡Hola! Bienvenido.\"\n"
   ]
  },
  {
   "cell_type": "code",
   "execution_count": 1,
   "metadata": {},
   "outputs": [
    {
     "name": "stdout",
     "output_type": "stream",
     "text": [
      "¡Hola! Bienvenido.\n"
     ]
    }
   ],
   "source": [
    "\n",
    "def imprimir_bienvenida():\n",
    "    bienvenida = \"¡Hola! Bienvenido.\"\n",
    "    print(bienvenida)\n",
    "\n",
    "imprimir_bienvenida()"
   ]
  },
  {
   "cell_type": "markdown",
   "metadata": {},
   "source": [
    "#### 2. Escribe una función que reciba dos parámetros y devuelva la suma de ambos.\n"
   ]
  },
  {
   "cell_type": "code",
   "execution_count": 6,
   "metadata": {},
   "outputs": [
    {
     "name": "stdout",
     "output_type": "stream",
     "text": [
      "4\n"
     ]
    }
   ],
   "source": [
    "def suma2(x = int(input()),y = int(input())):\n",
    "    print (\"suma2 requiere 2 números.\")\n",
    "    return x + y\n",
    "\n",
    "print (suma2())"
   ]
  },
  {
   "cell_type": "markdown",
   "metadata": {},
   "source": [
    "#### 3. Escribe una función que reciba un número y devuelva True si es par, False si no lo es."
   ]
  },
  {
   "cell_type": "code",
   "execution_count": 15,
   "metadata": {},
   "outputs": [],
   "source": [
    "\n",
    "def par(num1):\n",
    "    if num1 %2 == 0:\n",
    "        return True\n",
    "    else:\n",
    "        return False\n",
    "    \n"
   ]
  },
  {
   "cell_type": "code",
   "execution_count": 16,
   "metadata": {},
   "outputs": [
    {
     "name": "stdout",
     "output_type": "stream",
     "text": [
      "False\n"
     ]
    }
   ],
   "source": [
    "print(par(1))"
   ]
  },
  {
   "cell_type": "markdown",
   "metadata": {},
   "source": [
    "#### 4. Escribe un función que devuelva un saludo personalizado a una persona dado su nombre. \n"
   ]
  },
  {
   "cell_type": "code",
   "execution_count": 3,
   "metadata": {},
   "outputs": [
    {
     "name": "stdout",
     "output_type": "stream",
     "text": [
      "Hola Jose ¡bienvenid@!\n"
     ]
    }
   ],
   "source": [
    "def saludo_personalizado(nombre):\n",
    "    print (f\"Hola {nombre} ¡bienvenid@!\")\n",
    "           \n",
    "nombrepers = input ()\n",
    "saludo_personalizado(nombrepers)\n"
   ]
  },
  {
   "cell_type": "markdown",
   "metadata": {},
   "source": [
    "#### 5. Escribe una función que sume todos los números que reciba como argumento. La función debe recibir una cantidad variable de argumentos y devolver la suma de todos ellos."
   ]
  },
  {
   "cell_type": "code",
   "execution_count": 2,
   "metadata": {},
   "outputs": [
    {
     "name": "stdout",
     "output_type": "stream",
     "text": [
      "35\n"
     ]
    }
   ],
   "source": [
    "def suma_acumulada(*args):\n",
    "    return sum (args)\n",
    "\n",
    "funcion = suma_acumulada(5,6,7,8,9)\n",
    "print(funcion)"
   ]
  },
  {
   "cell_type": "markdown",
   "metadata": {},
   "source": [
    "#### 6. Escribe una función que cuente las letras de una palabra y devuelva un diccionario con la cantidad de veces que se repite cada letra \n"
   ]
  },
  {
   "cell_type": "code",
   "execution_count": 413,
   "metadata": {},
   "outputs": [
    {
     "name": "stdout",
     "output_type": "stream",
     "text": [
      "Las letras y sus repeticiones son:\n",
      "{'p': 2}\n",
      "{'e': 1}\n",
      "{'p': 2}\n",
      "{'i': 1}\n",
      "{'n': 1}\n",
      "{'o': 1}\n"
     ]
    }
   ],
   "source": [
    "def cuenta_letras (palabra, **kwargs):\n",
    "    letras_sueltas = []\n",
    "    letras_palabra = []\n",
    "\n",
    "    print (\"Las letras y sus repeticiones son:\")\n",
    "    for letra in palabra:\n",
    "        conteo_letras = palabra.count(letra)\n",
    "        letras_palabra.append (conteo_letras)\n",
    "        letras_sueltas.append (letra)\n",
    "        kwargs = {letra : conteo_letras}\n",
    "        \n",
    "        print (kwargs)\n",
    "\n",
    "\n",
    "\n",
    "cuenta_letras(\"pepino\")"
   ]
  },
  {
   "cell_type": "markdown",
   "metadata": {},
   "source": [
    "#### 7. Escribe un función recursiva para calcular el factorial de un número entero no negativo."
   ]
  },
  {
   "cell_type": "code",
   "execution_count": 143,
   "metadata": {},
   "outputs": [
    {
     "name": "stdout",
     "output_type": "stream",
     "text": [
      "120\n"
     ]
    }
   ],
   "source": [
    "def factorial(n):\n",
    "  \n",
    "    if n == 0 or n == 1:\n",
    "        return 1\n",
    "  \n",
    "    else:\n",
    "        return n * factorial(n - 1)\n",
    "\n",
    "print(factorial(5))\n",
    "\n"
   ]
  },
  {
   "cell_type": "markdown",
   "metadata": {},
   "source": [
    "#### 8. Escribe una función que tome dos parámetros: `figura` (una cadena que puede ser `\"rectangulo\"`, `\"circulo\"` o `\"triangulo\"`) y `datos` (una tupla con los datos necesarios para calcular el área de la figura). "
   ]
  },
  {
   "cell_type": "code",
   "execution_count": 417,
   "metadata": {},
   "outputs": [],
   "source": [
    "\n",
    "def calcular_area(figura, *args):\n",
    "    \n",
    "    if figura == \"rectangulo\" and len(args) == 2:\n",
    "        \n",
    "        base, altura = args\n",
    "        return base * altura\n",
    "    \n",
    "\n",
    "    \n",
    "    elif figura == \"circulo\" and len(args) == 1:\n",
    "       \n",
    "        radio, = args\n",
    "        return 3.14 * radio ** 2\n",
    "    \n",
    "    elif figura == \"triangulo\" and len(args) == 2:\n",
    "        base, altura = args\n",
    "        return (base * altura) / 2\n",
    "    \n",
    "    else:\n",
    "        return \"Figura no válida. Para el rectángulo y el triángulo necesitas introducir exactamente 2 argumentos, para el circulo 1.\"\n",
    "\n",
    "\n"
   ]
  },
  {
   "cell_type": "code",
   "execution_count": 419,
   "metadata": {},
   "outputs": [
    {
     "data": {
      "text/plain": [
       "9.0"
      ]
     },
     "execution_count": 419,
     "metadata": {},
     "output_type": "execute_result"
    }
   ],
   "source": [
    "calcular_area(\"triangulo\",3,6)"
   ]
  },
  {
   "cell_type": "markdown",
   "metadata": {},
   "source": [
    "#### 9. Escribe una función que tome una lista de números como parámetro y devuelva el número más grande de la lista. No utilices la función `max()` de Python en tu solución."
   ]
  },
  {
   "cell_type": "code",
   "execution_count": 2,
   "metadata": {},
   "outputs": [
    {
     "name": "stdout",
     "output_type": "stream",
     "text": [
      "9\n"
     ]
    }
   ],
   "source": [
    "def maximo (lista):\n",
    "    lista = sorted(lista,reverse = True)\n",
    "    print (lista[0])\n",
    "\n",
    "maximo ([1,2,3,4,9])"
   ]
  },
  {
   "cell_type": "markdown",
   "metadata": {},
   "source": [
    "#### 10. Escribe una función que tome una cadena como parámetro un texto y devuelva `True` si la cadena es un palíndromo (se lee igual de izquierda a derecha que de derecha a izquierda), y `False` en caso contrario. Ignora los espacios y considera mayúsculas y minúsculas de manera insensible.\n"
   ]
  },
  {
   "cell_type": "code",
   "execution_count": 264,
   "metadata": {},
   "outputs": [],
   "source": [
    "def palindromo (string):\n",
    "    contador = 0\n",
    "    word = []\n",
    "    \n",
    "    string = string.upper()\n",
    "    separados = string.split()\n",
    "    juntos = \"\".join(separados)\n",
    "    print (juntos)\n",
    "    \n",
    "    for letter in juntos:\n",
    "        word.append(letter)\n",
    "\n",
    "    largo = len(word)-1\n",
    "    \n",
    "\n",
    "    while (contador <= largo):\n",
    "       \n",
    "        #print (contador)\n",
    "        #print (largo)\n",
    "        #print (word[contador] == word[largo])\n",
    "        largo = largo -1\n",
    "        contador = contador +1 \n",
    "\n",
    "    if(word[contador] == word[largo]) == False:\n",
    "      print(\"No es palíndromo\")\n",
    "    else:\n",
    "      print (\"Palíndromo\")\n",
    "        \n",
    "        \n",
    "        "
   ]
  },
  {
   "cell_type": "code",
   "execution_count": 266,
   "metadata": {},
   "outputs": [
    {
     "name": "stdout",
     "output_type": "stream",
     "text": [
      "RADAR\n",
      "Palíndromo\n"
     ]
    }
   ],
   "source": [
    "palindromo(\"ra dar\")"
   ]
  },
  {
   "cell_type": "markdown",
   "metadata": {},
   "source": [
    "#### 11. Escribe una función que tome una cadena como parámetro y devuelva dos valores: la cantidad de vocales y la cantidad de consonantes presentes en la cadena. Ignora los espacios y considera mayúsculas y minúsculas de manera insensible.\n"
   ]
  },
  {
   "cell_type": "code",
   "execution_count": 406,
   "metadata": {},
   "outputs": [
    {
     "name": "stdout",
     "output_type": "stream",
     "text": [
      "manzana\n",
      "La palabra manzana tiene estas vocales : {'a': 3} y estas consonantes: {'m': 2, 'n': 2, 'z': 2}\n"
     ]
    }
   ],
   "source": [
    "def numletras (string,**kwargs):\n",
    "\n",
    "    string = string.lower()\n",
    "    separados = string.split()\n",
    "    palabra = \"\".join(separados)\n",
    "    print (palabra)\n",
    "\n",
    "    vocales = [\"a\",\"e\",\"i\",\"o\",\"u\"]\n",
    "  \n",
    "    vocales_sueltas = []\n",
    "   \n",
    "    consonantes_sueltas = []\n",
    "\n",
    "  \n",
    "\n",
    "    for c in palabra:\n",
    "     if c in vocales:\n",
    "        vocales_sueltas.append(c)\n",
    "        conteo_vocal = (palabra.count(c))\n",
    "        kwargs = dict.fromkeys(vocales_sueltas, conteo_vocal)\n",
    "     \n",
    "     elif c not in vocales:\n",
    "        conteo_consonante = (palabra.count(c))\n",
    "        consonantes_sueltas.append(c)\n",
    "        buenastardes = dict.fromkeys(consonantes_sueltas, conteo_consonante)\n",
    "        \n",
    "        \n",
    "\n",
    "  \n",
    "\n",
    "    print (f'La palabra {palabra} tiene estas vocales : {kwargs} y estas consonantes: {buenastardes}')\n",
    "        \n",
    "    \n",
    "    \n",
    "\n",
    "   \n",
    "\n",
    "\n",
    "numletras(\"manzana\")     "
   ]
  }
 ],
 "metadata": {
  "kernelspec": {
   "display_name": "hackio",
   "language": "python",
   "name": "python3"
  },
  "language_info": {
   "codemirror_mode": {
    "name": "ipython",
    "version": 3
   },
   "file_extension": ".py",
   "mimetype": "text/x-python",
   "name": "python",
   "nbconvert_exporter": "python",
   "pygments_lexer": "ipython3",
   "version": "3.11.7"
  }
 },
 "nbformat": 4,
 "nbformat_minor": 2
}
