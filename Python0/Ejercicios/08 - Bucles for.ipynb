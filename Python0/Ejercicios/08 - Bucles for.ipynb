{
 "cells": [
  {
   "cell_type": "markdown",
   "metadata": {},
   "source": [
    "<div style=\"text-align: center;\">\n",
    "  <img src=\"https://github.com/Hack-io-Data/Imagenes/blob/main/01-LogosHackio/logo_celeste@4x.png?raw=true\" alt=\"logo hack(io)\" />\n",
    "</div>"
   ]
  },
  {
   "cell_type": "markdown",
   "metadata": {},
   "source": [
    "####  1. Genera una lista de números del 0 al 4 y luego imprime cada número en la lista usando un `bucle for`. "
   ]
  },
  {
   "cell_type": "code",
   "execution_count": 1,
   "metadata": {},
   "outputs": [
    {
     "name": "stdout",
     "output_type": "stream",
     "text": [
      "0\n",
      "1\n",
      "2\n",
      "3\n",
      "4\n"
     ]
    }
   ],
   "source": [
    "lista = [0,1,2,3,4]\n",
    "\n",
    "for i in lista:\n",
    "    print(i)"
   ]
  },
  {
   "cell_type": "markdown",
   "metadata": {},
   "source": [
    "#### 2. Itera sobre una lista de frutas y muestra cada fruta en mayúsculas. \n"
   ]
  },
  {
   "cell_type": "code",
   "execution_count": 3,
   "metadata": {},
   "outputs": [
    {
     "name": "stdout",
     "output_type": "stream",
     "text": [
      "MANZANA\n",
      "KIWI\n",
      "PLÁTANO\n",
      "NARANJA\n"
     ]
    }
   ],
   "source": [
    "frutas = ['manzana','kiwi','plátano','naranja']\n",
    "\n",
    "for fruta in frutas:\n",
    "    print(fruta.upper())"
   ]
  },
  {
   "cell_type": "markdown",
   "metadata": {},
   "source": [
    "####  3. Genera un bucle while que imprima los números del 0 al 4. \n"
   ]
  },
  {
   "cell_type": "code",
   "execution_count": 18,
   "metadata": {},
   "outputs": [
    {
     "name": "stdout",
     "output_type": "stream",
     "text": [
      "0\n",
      "1\n",
      "2\n",
      "3\n",
      "4\n"
     ]
    }
   ],
   "source": [
    "numero = -1\n",
    "while numero < 4:\n",
    "    numero += 1\n",
    "    print (numero)\n",
    "    "
   ]
  },
  {
   "cell_type": "markdown",
   "metadata": {},
   "source": [
    "#### 4. Genera un bucle del 0 al 9, pero que se detenga en el 5.\n"
   ]
  },
  {
   "cell_type": "code",
   "execution_count": 24,
   "metadata": {},
   "outputs": [
    {
     "name": "stdout",
     "output_type": "stream",
     "text": [
      "0\n",
      "1\n",
      "2\n",
      "3\n",
      "4\n",
      "5\n"
     ]
    }
   ],
   "source": [
    "numero = -1\n",
    "\n",
    "while numero < 9:\n",
    "    numero += 1\n",
    "    print (numero)\n",
    "    if numero == 5:\n",
    "        break\n",
    "\n"
   ]
  },
  {
   "cell_type": "markdown",
   "metadata": {},
   "source": [
    "#### 5. Recorre los números del 0 al 9 e imprime solo los números impares."
   ]
  },
  {
   "cell_type": "code",
   "execution_count": 33,
   "metadata": {},
   "outputs": [
    {
     "name": "stdout",
     "output_type": "stream",
     "text": [
      "1\n",
      "3\n",
      "5\n",
      "7\n",
      "9\n"
     ]
    }
   ],
   "source": [
    "numero = 0\n",
    "while numero < 9:\n",
    "    numero += 1\n",
    "    if numero %2 != 0:\n",
    "        print(numero)"
   ]
  },
  {
   "cell_type": "markdown",
   "metadata": {},
   "source": [
    "#### 6. Dada la lista `[10, 20, 30, 40, 50]`, calcula la suma de todos los elementos usando un bucle `for`."
   ]
  },
  {
   "cell_type": "code",
   "execution_count": 19,
   "metadata": {},
   "outputs": [
    {
     "name": "stdout",
     "output_type": "stream",
     "text": [
      "150\n"
     ]
    }
   ],
   "source": [
    "lista = [10, 20, 30, 40, 50]\n",
    "listasuma = 0\n",
    "\n",
    "for i in lista:\n",
    "    listasuma += i\n",
    "\n",
    "print (listasuma)\n",
    "\n",
    "\n",
    "    "
   ]
  },
  {
   "cell_type": "markdown",
   "metadata": {},
   "source": [
    "#### 7. Dada la cadena `\"Hola mundo\"`, cuenta cuántas veces aparecen las vocales (`a`, `e`, `i`, `o`, `u`) usando un bucle `for`.\n"
   ]
  },
  {
   "cell_type": "code",
   "execution_count": 149,
   "metadata": {},
   "outputs": [
    {
     "name": "stdout",
     "output_type": "stream",
     "text": [
      "a aparece 1 veces\n",
      "e aparece 0 veces\n",
      "i aparece 0 veces\n",
      "o aparece 2 veces\n",
      "u aparece 1 veces\n"
     ]
    }
   ],
   "source": [
    "cadena = (\"Hola mundo\")\n",
    "vocales = (\"a\",\"e\",\"i\",\"o\",\"u\")\n",
    "\n",
    "for letra in vocales:\n",
    "    print (f\"{letra} aparece {cadena.count(letra)} veces\")\n"
   ]
  },
  {
   "cell_type": "markdown",
   "metadata": {},
   "source": [
    "#### 8. Dada la cadena `\"Python\"`, usa un bucle `for` para imprimir los caracteres en orden inverso (`n`, `o`, `h`, `t`, `y`, `P`).\n"
   ]
  },
  {
   "cell_type": "code",
   "execution_count": 23,
   "metadata": {},
   "outputs": [
    {
     "name": "stdout",
     "output_type": "stream",
     "text": [
      "y\n",
      "t\n",
      "o\n",
      "n\n",
      "h\n",
      "P\n"
     ]
    }
   ],
   "source": [
    "variable = (\"Python\")\n",
    "variable = sorted(variable,reverse=True)\n",
    "\n",
    "for caracter in variable:\n",
    "    print(caracter)\n",
    "\n"
   ]
  },
  {
   "cell_type": "markdown",
   "metadata": {},
   "source": [
    "#### 10. Dada la lista `[1, 2, 3, 4, 5, 6, 7, 8, 9, 10]`, utiliza un bucle `for` para contar cuántos números son pares y cuántos son impares."
   ]
  },
  {
   "cell_type": "code",
   "execution_count": 142,
   "metadata": {},
   "outputs": [
    {
     "name": "stdout",
     "output_type": "stream",
     "text": [
      "[2, 4, 6, 8, 10] son pares\n",
      "[1, 3, 5, 7, 9] son impares\n"
     ]
    }
   ],
   "source": [
    "pares = []\n",
    "impares = []\n",
    "\n",
    "for i in range (1,11):\n",
    " if i %2 == 0:\n",
    "  pares.append(i)\n",
    " else:\n",
    "  impares.append(i)\n",
    "\n",
    "print (f\"{pares} son pares\")\n",
    "print (f\"{impares} son impares\")\n",
    "\n",
    "\n"
   ]
  },
  {
   "cell_type": "markdown",
   "metadata": {},
   "source": [
    "#### 11. Escribe un programa que solicite al usuario un número entero positivo (`n`) y calcule la suma de todos los números primos menores o iguales a `n`. Utiliza un bucle `for` para iterar sobre cada número y verifica si es primo."
   ]
  },
  {
   "cell_type": "code",
   "execution_count": 44,
   "metadata": {},
   "outputs": [],
   "source": [
    "def primenum (num):\n",
    "    for n in range(2, num):\n",
    "        if num % n == 0:\n",
    "            return False\n",
    "    return True\n",
    "\n",
    "#Creamos función primenum para poder recurrir a ella cuando sea necesario.\n"
   ]
  },
  {
   "cell_type": "code",
   "execution_count": 56,
   "metadata": {},
   "outputs": [
    {
     "name": "stdout",
     "output_type": "stream",
     "text": [
      "Inserte un número entero positivo\n",
      "Tu número es 6\n",
      "aparte de 1 y 6, 5 es divisor de 6. 6 no es primo\n",
      "menores que el entero: [2, 3, 4, 5]\n",
      "Menores primos: [2, 3, 5]\n",
      "Menores no primos: [4]\n",
      "Suma de primos: 10\n"
     ]
    }
   ],
   "source": [
    "print(\"Inserte un número entero positivo\")\n",
    "numpos = input()\n",
    "numpos = int(numpos)\n",
    "menosque = []\n",
    "menoresprimos = []\n",
    "noprimos = []\n",
    "sumaprimos = 0\n",
    "\n",
    "if type(numpos) == int and numpos > 0:\n",
    " print(f\"Tu número es {numpos}\")\n",
    " #Hasta aquí vemos si el número es positivo y entero\n",
    " normal = ()\n",
    " \n",
    " for n in range(2,numpos):\n",
    "    if numpos % n == 0:\n",
    "     normal = True\n",
    " #Aquí vemos si el número tiene más divisores que él mismo y 1\n",
    " if normal == True:\n",
    "  print(f\"aparte de 1 y {numpos}, {n} es divisor de {numpos}. {numpos} no es primo\")\n",
    " else: \n",
    "  print(f\"{numpos} es primo\")\n",
    "  #Si el número no es normal, sólo tiene dos divisores y por tanto es primo\n",
    "else:\n",
    "   print (\"Necesita un número positivo\")\n",
    "\n",
    "#En esta parte se demuestra el uso de bucles for para hallar primos directamente con las variables.\n",
    "  \n",
    "for x in range (2,numpos):\n",
    "     menosque.append(x)\n",
    "\n",
    "for h in menosque:\n",
    "   if primenum(h) == True:\n",
    "        menoresprimos.append(h)\n",
    "        sumaprimos += h\n",
    "\n",
    "   elif primenum (h) == False:\n",
    "       noprimos.append(h)\n",
    "       \n",
    "#Aquí aprovechamos que hemos definido una función para encontrar primos. La usamos para clasificar los menores.\n",
    "#También hemos creado sumaprimos y hemos repetido el proceso de iteración y suma del ej 6\n",
    "        \n",
    "   \n",
    "   \n",
    "print (f\"menores que el entero: {menosque}\")\n",
    "print (f\"Menores primos: {menoresprimos}\") \n",
    "print (f\"Menores no primos: {noprimos}\")    \n",
    "print(f\"Suma de primos: {sumaprimos}\")\n",
    "      \n",
    "\n",
    "\n",
    "\n"
   ]
  },
  {
   "cell_type": "markdown",
   "metadata": {},
   "source": [
    "#### 12. Escribe un programa que solicite al usuario un número entero positivo (`n`) y luego imprima un patrón de asteriscos como el siguiente ejemplo para `n = 5`:\n",
    "```\n",
    "*\n",
    "**\n",
    "***\n",
    "****\n",
    "*****\n",
    "```\n",
    "Utiliza un bucle `for` anidado para controlar la cantidad de asteriscos en cada línea."
   ]
  },
  {
   "cell_type": "code",
   "execution_count": 153,
   "metadata": {},
   "outputs": [
    {
     "name": "stdout",
     "output_type": "stream",
     "text": [
      "Inserte un número entero positivo\n",
      "*\n",
      "**\n",
      "***\n",
      "****\n",
      "*****\n",
      "******\n",
      "*******\n"
     ]
    }
   ],
   "source": [
    "print(\"Inserte un número entero positivo\")\n",
    "pos = input()\n",
    "pos = int(pos)\n",
    "\n",
    "if type(pos) == int and pos > 0:\n",
    "\n",
    " for i in range (1,pos+1): \n",
    "  asterisco = \"*\" * i\n",
    "  print (asterisco)\n",
    "\n",
    "\n",
    "else:\n",
    "  print (\"Necesita un número positivo\")\n"
   ]
  },
  {
   "cell_type": "markdown",
   "metadata": {},
   "source": [
    "#### 13. Dado un texto, utiliza un bucle `for` para contar cuántas veces aparece cada palabra en el texto. Ignora mayúsculas/minúsculas y los signos de puntuación."
   ]
  },
  {
   "cell_type": "code",
   "execution_count": 26,
   "metadata": {},
   "outputs": [
    {
     "ename": "TypeError",
     "evalue": "'builtin_function_or_method' object is not iterable",
     "output_type": "error",
     "traceback": [
      "\u001b[1;31m---------------------------------------------------------------------------\u001b[0m",
      "\u001b[1;31mTypeError\u001b[0m                                 Traceback (most recent call last)",
      "Cell \u001b[1;32mIn[26], line 7\u001b[0m\n\u001b[0;32m      3\u001b[0m palabra \u001b[38;5;241m=\u001b[39m palabra\u001b[38;5;241m.\u001b[39mupper\n\u001b[0;32m      4\u001b[0m \u001b[38;5;66;03m#esto estandariza todas las palabras en el texto a un mismo formato, para que no haya problema\u001b[39;00m\n\u001b[0;32m      5\u001b[0m \u001b[38;5;66;03m#los signos de puntuación dan igual porque el buscador sigue encontrando el string\u001b[39;00m\n\u001b[1;32m----> 7\u001b[0m \u001b[38;5;28;01mfor\u001b[39;00m letra \u001b[38;5;129;01min\u001b[39;00m palabra:\n\u001b[0;32m      8\u001b[0m     \u001b[38;5;28mprint\u001b[39m (\u001b[38;5;124mf\u001b[39m\u001b[38;5;124m\"\u001b[39m\u001b[38;5;132;01m{\u001b[39;00mletra\u001b[38;5;132;01m}\u001b[39;00m\u001b[38;5;124m aparece \u001b[39m\u001b[38;5;132;01m{\u001b[39;00mtexto\u001b[38;5;241m.\u001b[39mcount(letra)\u001b[38;5;132;01m}\u001b[39;00m\u001b[38;5;124m veces\u001b[39m\u001b[38;5;124m\"\u001b[39m)\n",
      "\u001b[1;31mTypeError\u001b[0m: 'builtin_function_or_method' object is not iterable"
     ]
    }
   ],
   "source": [
    "texto = (\"Lo que sea\")\n",
    "palabra = (\"Letras\")\n",
    "palabra = palabra.upper\n",
    "#esto estandariza todas las palabras en el texto a un mismo formato, para que no haya problema\n",
    "#los signos de puntuación dan igual porque el buscador sigue encontrando el string\n",
    "\n",
    "for letra in palabra:\n",
    "    print (f\"{letra} aparece {texto.count(letra)} veces\")\n",
    "#Printear cada coincidencia que haya en \"texto\" con el contenido de \"palabra\" "
   ]
  },
  {
   "cell_type": "markdown",
   "metadata": {},
   "source": [
    "#### 14. Escribe un programa que solicite al usuario dos números enteros positivos (`inicio` y `fin`, donde `inicio <= fin`) y luego calcule la suma de los números pares y la suma de los números impares en ese rango. Utiliza un bucle `for` para iterar sobre cada número y una estructura `if-else` para clasificar y sumar los números pares e impares."
   ]
  },
  {
   "cell_type": "code",
   "execution_count": 206,
   "metadata": {},
   "outputs": [
    {
     "name": "stdout",
     "output_type": "stream",
     "text": [
      "los números son 2,9\n",
      "[2, 4, 6, 8] son pares\n",
      "[3, 5, 7, 9] son impares\n",
      "La suma de los pares del rango es 20\n",
      "La suma de los impares del rango es 24\n"
     ]
    }
   ],
   "source": [
    "inicio = int(input())\n",
    "fin = int (input())\n",
    "\n",
    "listapar = []\n",
    "listaimpar = [] \n",
    "\n",
    "sumapares = 0\n",
    "sumaimpares = 0\n",
    "\n",
    "if inicio <= fin and inicio > 0 and fin >0:\n",
    "    print(f\"los números son {inicio},{fin}\")\n",
    "    for i in range(inicio, fin+1):\n",
    "     if i %2 == 0:\n",
    "      listapar.append(i)\n",
    "      \n",
    "     else:\n",
    "      listaimpar.append(i)\n",
    "      \n",
    "        \n",
    "    for y in listapar:\n",
    "     sumapares += y  \n",
    "     \n",
    "    for x in listaimpar:\n",
    "     sumaimpares += x\n",
    "    \n",
    "\n",
    "        \n",
    "else: \n",
    "   print(\"Inicio ha de ser menor que fin, y ambos deben ser enteros\")\n",
    "\n",
    "print (f\"{listapar} son pares\") \n",
    "print (f\"{listaimpar} son impares\")  \n",
    "print (f\"La suma de los pares del rango es {sumapares}\")\n",
    "print (f\"La suma de los impares del rango es {sumaimpares}\")    \n",
    "\n",
    "\n",
    "       \n"
   ]
  },
  {
   "cell_type": "markdown",
   "metadata": {},
   "source": [
    "#### 15. Escribe un programa que solicite al usuario un número entero positivo (`n`) y luego identifique todos los números primos menores o iguales a `n`. Para cada número, imprime si es primo o no usando un bucle `for` y una estructura `if-else` para verificar la condición de primalidad."
   ]
  },
  {
   "cell_type": "code",
   "execution_count": 61,
   "metadata": {},
   "outputs": [],
   "source": [
    "def primenum (num):\n",
    "    for n in range(2, num):\n",
    "        if num % n == 0:\n",
    "            return False\n",
    "    return True\n"
   ]
  },
  {
   "cell_type": "code",
   "execution_count": 67,
   "metadata": {},
   "outputs": [
    {
     "name": "stdout",
     "output_type": "stream",
     "text": [
      "entero se puede dividir por sí mismo, por [2, 3] y por 1\n",
      "[1, 2, 3, 5] son menores primos\n",
      "[4] son menores NO primos\n"
     ]
    }
   ],
   "source": [
    "entero = int(input())\n",
    "noprimo = ()\n",
    "divisores =  []\n",
    "\n",
    "menorque = []\n",
    "mprimos = []\n",
    "sinprimos = []\n",
    "\n",
    "for menor in range(1,entero):\n",
    "   menorque.append(menor)\n",
    "#Hallamos nums menores que entero\n",
    "\n",
    "for n in range(2,entero):\n",
    "    if entero % n == 0:\n",
    "     noprimo = True\n",
    "     divisores.append(n)\n",
    "    \n",
    "    if noprimo == False:\n",
    "       print(f\"{entero} es primo\")\n",
    "       break\n",
    "    \n",
    "print(f\"entero se puede dividir por sí mismo, por {divisores} y por 1\")     \n",
    "\n",
    "#Comprobamos que entero no es primo y tiene divisores\n",
    "#Hasta aquí buscamos divisores e indicamos si entero es primo con bucles for.\n",
    "\n",
    "for h in menorque:\n",
    "   if primenum(h) == True:\n",
    "        mprimos.append(h)\n",
    "        \n",
    "   elif primenum (h) == False:\n",
    "       sinprimos.append(h)\n",
    "\n",
    "print(f\"{mprimos} son menores primos\")\n",
    "print(f\"{sinprimos} son menores NO primos\")\n",
    "\n"
   ]
  },
  {
   "cell_type": "markdown",
   "metadata": {},
   "source": [
    "#### 16.Dada una lista de precios `[100, 200, 300, 400, 500]`, aplica un descuento del 10% a todos los precios mayores a `250`. Imprime la lista actualizada de precios después de aplicar el descuento utilizando un bucle `for`. "
   ]
  },
  {
   "cell_type": "code",
   "execution_count": 147,
   "metadata": {},
   "outputs": [
    {
     "name": "stdout",
     "output_type": "stream",
     "text": [
      "[100, 200, 300, 400, 500]\n",
      "[100, 200, 270.0, 360.0, 450.0]\n"
     ]
    }
   ],
   "source": [
    "\n",
    "lista = [100, 200, 300, 400, 500]\n",
    "print (lista)\n",
    "nueva_lista = []\n",
    "\n",
    "for precio in lista:\n",
    "    if precio > 250:\n",
    "        nueva_lista.append (precio*0.9)\n",
    "    else:\n",
    "        nueva_lista.append (precio)\n",
    "    \n",
    "print (nueva_lista)\n"
   ]
  },
  {
   "cell_type": "markdown",
   "metadata": {},
   "source": [
    "#### 17. Dada una lista de calificaciones de estudiantes `[85, 92, 78, 90, 88]`, clasifica a cada estudiante como \"Aprobado\" si la calificación es mayor o igual a `80` y como \"Reprobado\" si es menor a `80`. Imprime el nombre de cada estudiante junto con su estado utilizando un bucle `for` y una estructura `if-else`.\n"
   ]
  },
  {
   "cell_type": "code",
   "execution_count": 76,
   "metadata": {},
   "outputs": [
    {
     "name": "stdout",
     "output_type": "stream",
     "text": [
      "estudiante 1 está aprobado\n",
      "estudiante 2 está aprobado\n",
      "estudiante 3 está reprobado\n",
      "estudiante 4 está aprobado\n",
      "estudiante 5 está aprobado\n"
     ]
    }
   ],
   "source": [
    "calificaciones = [85, 92, 78, 90, 88]\n",
    "\n",
    "for nota in calificaciones:\n",
    "    if nota < 80:\n",
    "        print(f\"estudiante {calificaciones.index(nota)+1} está reprobado\")\n",
    "    else: \n",
    "        print (f\"estudiante {calificaciones.index(nota)+1} está aprobado\")\n"
   ]
  },
  {
   "cell_type": "markdown",
   "metadata": {},
   "source": [
    "\n",
    "#### 18. Escribe un programa que solicite al usuario dos números enteros positivos (`inicio`, `fin`) y otro número entero positivo (`divisor`). Encuentra el número más grande en el rango desde `inicio` hasta `fin` que sea divisible por `divisor`. Utiliza un bucle `for` y una estructura `if-else` para verificar y mantener el registro del número más grande divisible por el divisor dado.\n"
   ]
  },
  {
   "cell_type": "markdown",
   "metadata": {},
   "source": []
  },
  {
   "cell_type": "code",
   "execution_count": 139,
   "metadata": {},
   "outputs": [
    {
     "name": "stdout",
     "output_type": "stream",
     "text": [
      "Inserte dos números (Inicio y Fin) para establecer un rango y luego un divisor\n",
      "Tu rango es: 4 - 8 y el número por el que quieres dividir; 2\n",
      "8\n"
     ]
    }
   ],
   "source": [
    "inicio = int(input())\n",
    "fin = int(input())\n",
    "divisor = int(input())\n",
    "\n",
    "divisores = []\n",
    "\n",
    "print(\"Inserte dos números (Inicio y Fin) para establecer un rango y luego un divisor\")\n",
    "print(f\"Tu rango es: {inicio} - {fin} y el número por el que quieres dividir: {divisor}\")\n",
    "\n",
    "for x in range(inicio,fin+1):\n",
    "    if x % divisor == 0:\n",
    "        divisores.append(x)\n",
    "\n",
    "print(max(divisores))\n"
   ]
  }
 ],
 "metadata": {
  "kernelspec": {
   "display_name": "hackio",
   "language": "python",
   "name": "python3"
  },
  "language_info": {
   "codemirror_mode": {
    "name": "ipython",
    "version": 3
   },
   "file_extension": ".py",
   "mimetype": "text/x-python",
   "name": "python",
   "nbconvert_exporter": "python",
   "pygments_lexer": "ipython3",
   "version": "3.11.7"
  }
 },
 "nbformat": 4,
 "nbformat_minor": 2
}
