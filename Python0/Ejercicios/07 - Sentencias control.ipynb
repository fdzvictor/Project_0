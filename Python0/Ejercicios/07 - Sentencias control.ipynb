{
 "cells": [
  {
   "cell_type": "markdown",
   "metadata": {},
   "source": [
    "<div style=\"text-align: center;\">\n",
    "  <img src=\"https://github.com/Hack-io-Data/Imagenes/blob/main/01-LogosHackio/logo_celeste@4x.png?raw=true\" alt=\"logo hack(io)\" />\n",
    "</div>"
   ]
  },
  {
   "cell_type": "markdown",
   "metadata": {},
   "source": [
    "#### 1. Escribe un programa que determine si un número es par o impar.\n",
    "\n"
   ]
  },
  {
   "cell_type": "code",
   "execution_count": 55,
   "metadata": {},
   "outputs": [
    {
     "name": "stdout",
     "output_type": "stream",
     "text": [
      "Número impar\n"
     ]
    }
   ],
   "source": [
    "numero = input()\n",
    "numero = int(numero)\n",
    "\n",
    "if numero %2 != 0:\n",
    "    print('Número impar')\n",
    "else:\n",
    "    print(\"Número par\") \n"
   ]
  },
  {
   "cell_type": "markdown",
   "metadata": {},
   "source": [
    "#### 2. Genera un programa que nos diga si es de noche, de día o tarde según la hora proporcionada por el usuario."
   ]
  },
  {
   "cell_type": "code",
   "execution_count": 49,
   "metadata": {},
   "outputs": [
    {
     "name": "stdout",
     "output_type": "stream",
     "text": [
      "¿Es de día, por la tarde o de noche?\n",
      "Es de día\n"
     ]
    }
   ],
   "source": [
    "print('¿Es de día, por la tarde o de noche?')\n",
    "momentodia = input()\n",
    "if momentodia == \"noche\":\n",
    "    print('Es de noche')\n",
    "elif momentodia == \"tarde\":\n",
    "    print('Es por la tarde')\n",
    "else:\n",
    "    print('Es de día')"
   ]
  },
  {
   "cell_type": "markdown",
   "metadata": {},
   "source": [
    "#### 3. Dado un nombre imprime un saludo personalizado."
   ]
  },
  {
   "cell_type": "code",
   "execution_count": 13,
   "metadata": {},
   "outputs": [
    {
     "name": "stdout",
     "output_type": "stream",
     "text": [
      "¿Cómo te llamas?\n",
      "Hola profe,¿quieres una cerve?\n"
     ]
    }
   ],
   "source": [
    "print(\"¿Cómo te llamas?\")\n",
    "nombre = input()\n",
    "if nombre == \"Ana\" or \"Jeancha\":\n",
    " print(\"Hola profe, ¿quieres una cerve?\")"
   ]
  },
  {
   "cell_type": "markdown",
   "metadata": {},
   "source": [
    "#### 4. Escribe un programa que determine qué calificación en texto tiene un alumno en base a su calificación numérica. Las reglas de calificación son: \n",
    "\n",
    "- 0 - 69 insuficiente\n",
    "\n",
    "- 70 - 79 bien\n",
    "\n",
    "- 80 - 89 muy bien\n",
    "\n",
    "- 90 - 100 excelente\n"
   ]
  },
  {
   "cell_type": "code",
   "execution_count": 25,
   "metadata": {},
   "outputs": [
    {
     "name": "stdout",
     "output_type": "stream",
     "text": [
      "Insertar calificación\n",
      "Insuficiente\n"
     ]
    }
   ],
   "source": [
    "print(\"Insertar calificación\")\n",
    "nota = input()\n",
    "nota = int(nota)\n",
    "\n",
    "if nota <= 69:\n",
    "    print(\"Insuficiente\")\n",
    "elif nota <= 79 and nota >= 70:\n",
    "    print(\"Bien\")\n",
    "elif nota <= 89 and nota >= 80:\n",
    "    print(\"Muy bien\")\n",
    "elif nota <= 100 and nota >= 90:\n",
    "    print('Excelente')   "
   ]
  },
  {
   "cell_type": "markdown",
   "metadata": {},
   "source": [
    "#### 5. Escribe un programa que imprima el día de la semana, dado un número del 1 al 7.\n"
   ]
  },
  {
   "cell_type": "code",
   "execution_count": 41,
   "metadata": {},
   "outputs": [
    {
     "name": "stdout",
     "output_type": "stream",
     "text": [
      "Escribe un número 1-7\n",
      "Domingo\n"
     ]
    }
   ],
   "source": [
    "Dias_semana = ['Lunes','Martes','Miércoles','Jueves','Viernes','Sábado','Domingo']\n",
    "\n",
    "print('Escribe un número 1-7')\n",
    "\n",
    "programa = input()\n",
    "programa = int(programa)\n",
    "\n",
    "print(Dias_semana[programa])\n",
    "   \n"
   ]
  },
  {
   "cell_type": "markdown",
   "metadata": {},
   "source": [
    "#### 6. Escribe un programa que determine si un número es positivo, negativo o cero."
   ]
  },
  {
   "cell_type": "code",
   "execution_count": 53,
   "metadata": {},
   "outputs": [
    {
     "name": "stdout",
     "output_type": "stream",
     "text": [
      "0\n"
     ]
    }
   ],
   "source": [
    "num = input()\n",
    "num = int(num)\n",
    "\n",
    "if num < 0:\n",
    "    print(\"Negativo\")\n",
    "elif num == 0:\n",
    "    print('0')\n",
    "else:\n",
    "    print(\"Positivo\")"
   ]
  },
  {
   "cell_type": "markdown",
   "metadata": {},
   "source": [
    "#### 7. Escribe un programa que determine si una persona puede conducir o no. La edad mínima para conducir es 18 años. \n"
   ]
  },
  {
   "cell_type": "code",
   "execution_count": null,
   "metadata": {},
   "outputs": [],
   "source": [
    "print(\"Insertar edad\")\n",
    "edad = input()\n",
    "edad = int(edad)\n",
    "\n",
    "if nota >= 18:\n",
    "    print(\"Puedes conducir\")\n",
    "else: \n",
    "    print(\"No puedes conducir\") "
   ]
  },
  {
   "cell_type": "markdown",
   "metadata": {},
   "source": [
    "#### 8. Escribe un programa que determine si un estudiante aprobó o suspendió un examen."
   ]
  },
  {
   "cell_type": "code",
   "execution_count": 42,
   "metadata": {},
   "outputs": [
    {
     "name": "stdout",
     "output_type": "stream",
     "text": [
      "Insertar calificación 1-10\n",
      "Has aprobado\n"
     ]
    }
   ],
   "source": [
    "print(\"Insertar calificación 1-10\")\n",
    "nota = input()\n",
    "nota = int(nota)\n",
    "\n",
    "if nota >= 5:\n",
    "    print(\"Has aprobado\") "
   ]
  },
  {
   "cell_type": "markdown",
   "metadata": {},
   "source": [
    "#### 9. Escribe un programa que determine si un número es múltiplo de 3 y 5.\n"
   ]
  },
  {
   "cell_type": "code",
   "execution_count": 67,
   "metadata": {},
   "outputs": [
    {
     "name": "stdout",
     "output_type": "stream",
     "text": [
      "Divisible entre 3\n"
     ]
    }
   ],
   "source": [
    "numero = input()\n",
    "numero = int(numero)\n",
    "\n",
    "if numero %3==0 and numero %5 == 0:\n",
    "    print('Divisible entre 3 y 5')\n",
    "elif numero %3 == 0 and numero %5 != 0:\n",
    "        print(\"Divisible entre 3\")\n",
    "elif numero %3 != 0 and numero %5 == 0:\n",
    "        print('Divisible entre 5')\n",
    "else:\n",
    "  print(\"No es divisible ni entre 3 ni entre 5\") "
   ]
  },
  {
   "cell_type": "markdown",
   "metadata": {},
   "source": [
    "#### 10. Escribe un programa que determine si un número es par o impar.\n"
   ]
  },
  {
   "cell_type": "code",
   "execution_count": null,
   "metadata": {},
   "outputs": [],
   "source": [
    "numero = input()\n",
    "numero = int(numero)\n",
    "\n",
    "if numero %2 != 0:\n",
    "    print('Número impar')\n",
    "else:\n",
    "    print(\"Número par\") "
   ]
  }
 ],
 "metadata": {
  "kernelspec": {
   "display_name": "hackio",
   "language": "python",
   "name": "python3"
  },
  "language_info": {
   "codemirror_mode": {
    "name": "ipython",
    "version": 3
   },
   "file_extension": ".py",
   "mimetype": "text/x-python",
   "name": "python",
   "nbconvert_exporter": "python",
   "pygments_lexer": "ipython3",
   "version": "3.11.7"
  }
 },
 "nbformat": 4,
 "nbformat_minor": 2
}
